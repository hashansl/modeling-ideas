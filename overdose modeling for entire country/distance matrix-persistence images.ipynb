{
 "cells": [
  {
   "cell_type": "markdown",
   "metadata": {},
   "source": [
    "### Persistence images from distance matrix"
   ]
  },
  {
   "cell_type": "code",
   "execution_count": 17,
   "metadata": {},
   "outputs": [],
   "source": [
    "# import libraries\n",
    "import numpy as np\n",
    "import re\n",
    "import matplotlib.pyplot as plt\n",
    "import os\n",
    "from tqdm import tqdm\n",
    "import traceback\n",
    "import pandas as pd\n",
    "\n",
    "\n",
    "from ripser import Rips\n",
    "from persim import PersistenceImager\n",
    "\n",
    "import glob\n",
    "import pickle\n",
    "import geopandas as gpd\n",
    "import dcor\n",
    "import pandas as pd"
   ]
  },
  {
   "cell_type": "code",
   "execution_count": 4,
   "metadata": {},
   "outputs": [],
   "source": [
    "# remove warnings\n",
    "import warnings\n",
    "warnings.filterwarnings(\"ignore\")"
   ]
  },
  {
   "cell_type": "code",
   "execution_count": 8,
   "metadata": {},
   "outputs": [],
   "source": [
    "import ripser\n",
    "import persim\n",
    "\n",
    "def diagram_sizes(dgms):\n",
    "    return \", \".join([f\"|$H_{i}$|={len(d)}\" for i, d in enumerate(dgms)])"
   ]
  },
  {
   "cell_type": "code",
   "execution_count": 21,
   "metadata": {},
   "outputs": [],
   "source": [
    "# Define constant variables\n",
    "DATA_DIR = \"/Users/h6x/ORNL/git/modeling-ideas/overdose modeling for entire country/data/processed data/selected coordinates for each state - percentiles(below 90th)- all variables\"\n",
    "RESULTS_DIR = \"/Users/h6x/ORNL/git/modeling-ideas/overdose modeling for entire country/results/persistence images/below 90th percentile/h1h0/distance matrix 16 channels npy\"\n",
    "VARIABLES = ['EP_POV','EP_UNEMP','EP_PCI','EP_NOHSDP','EP_UNINSUR','EP_AGE65','EP_AGE17','EP_DISABL','EP_SNGPNT','EP_LIMENG','EP_MINRTY','EP_MUNIT','EP_MOBILE','EP_CROWD','EP_NOVEH','EP_GROUPQ']\n",
    "PERSISTENCE_IMAGE_SHAPE = (310, 310)\n",
    "NUMBER_OF_VARIABLES = 16\n",
    "PERSISTENCE_IMAGE_PARAMS = {\n",
    "    'pixel_size': 0.001,\n",
    "    'birth_range': (0.0, 0.31),\n",
    "    'pers_range': (0.0, 0.31),\n",
    "    'kernel_params': {'sigma': 0.00004}\n",
    "}"
   ]
  },
  {
   "cell_type": "code",
   "execution_count": 26,
   "metadata": {},
   "outputs": [],
   "source": [
    "# imoporting SVI data for the entire US(county level) \n",
    "us_svi = gpd.read_file('/Users/h6x/ORNL/git/modeling-ideas/overdose modeling for entire country/data/processed data/svi with hepvu/2018/SVI 2018 with HepVu census tracts/SVI2018_US_census_with_opioid_indicators.shp')"
   ]
  },
  {
   "cell_type": "code",
   "execution_count": 11,
   "metadata": {},
   "outputs": [],
   "source": [
    "# Function to get the list of folders in a specified location\n",
    "def get_folders(location):\n",
    "    return [name for name in os.listdir(location) if os.path.isdir(os.path.join(location, name))]\n",
    "\n",
    "# Get the list of state folders\n",
    "states = get_folders(DATA_DIR)"
   ]
  },
  {
   "cell_type": "code",
   "execution_count": 12,
   "metadata": {},
   "outputs": [
    {
     "name": "stdout",
     "output_type": "stream",
     "text": [
      "Done creating folders for each variable\n"
     ]
    }
   ],
   "source": [
    "# Create a folder for each variable if it does not exist\n",
    "for variable in VARIABLES:\n",
    "    os.makedirs(os.path.join(RESULTS_DIR, variable), exist_ok=True)\n",
    "print('Done creating folders for each variable')"
   ]
  },
  {
   "cell_type": "code",
   "execution_count": 37,
   "metadata": {},
   "outputs": [
    {
     "name": "stderr",
     "output_type": "stream",
     "text": [
      "Processing states:   0%|          | 0/50 [00:00<?, ?it/s]"
     ]
    },
    {
     "name": "stdout",
     "output_type": "stream",
     "text": [
      "Processing: VT\n"
     ]
    },
    {
     "name": "stderr",
     "output_type": "stream",
     "text": [
      "Processing states:   2%|▏         | 1/50 [00:03<02:52,  3.53s/it]"
     ]
    },
    {
     "name": "stdout",
     "output_type": "stream",
     "text": [
      "Processing: VA\n"
     ]
    },
    {
     "name": "stderr",
     "output_type": "stream",
     "text": [
      "Processing states:   4%|▍         | 2/50 [00:37<17:10, 21.46s/it]"
     ]
    },
    {
     "name": "stdout",
     "output_type": "stream",
     "text": [
      "Processing: SD\n"
     ]
    },
    {
     "name": "stderr",
     "output_type": "stream",
     "text": [
      "Processing states:   6%|▌         | 3/50 [00:53<14:52, 19.00s/it]"
     ]
    },
    {
     "name": "stdout",
     "output_type": "stream",
     "text": [
      "Processing: SC\n"
     ]
    },
    {
     "name": "stderr",
     "output_type": "stream",
     "text": [
      "Processing states:   8%|▊         | 4/50 [01:06<12:45, 16.65s/it]"
     ]
    },
    {
     "name": "stdout",
     "output_type": "stream",
     "text": [
      "Processing: UT\n"
     ]
    },
    {
     "name": "stderr",
     "output_type": "stream",
     "text": [
      "Processing states:  10%|█         | 5/50 [01:14<10:12, 13.62s/it]"
     ]
    },
    {
     "name": "stdout",
     "output_type": "stream",
     "text": [
      "Processing: GA\n"
     ]
    },
    {
     "name": "stderr",
     "output_type": "stream",
     "text": [
      "Processing states:  12%|█▏        | 6/50 [01:57<17:14, 23.51s/it]"
     ]
    },
    {
     "name": "stdout",
     "output_type": "stream",
     "text": [
      "Processing: MS\n"
     ]
    },
    {
     "name": "stderr",
     "output_type": "stream",
     "text": [
      "Processing states:  14%|█▍        | 7/50 [04:50<51:54, 72.43s/it]"
     ]
    },
    {
     "name": "stdout",
     "output_type": "stream",
     "text": [
      "Processing: MT\n"
     ]
    },
    {
     "name": "stderr",
     "output_type": "stream",
     "text": [
      "Processing states:  16%|█▌        | 8/50 [05:04<37:31, 53.60s/it]"
     ]
    },
    {
     "name": "stdout",
     "output_type": "stream",
     "text": [
      "Processing: MO\n"
     ]
    },
    {
     "name": "stderr",
     "output_type": "stream",
     "text": [
      "Processing states:  18%|█▊        | 9/50 [05:34<31:46, 46.50s/it]"
     ]
    },
    {
     "name": "stdout",
     "output_type": "stream",
     "text": [
      "Processing: MA\n"
     ]
    },
    {
     "name": "stderr",
     "output_type": "stream",
     "text": [
      "Processing states:  20%|██        | 10/50 [05:43<23:06, 34.67s/it]"
     ]
    },
    {
     "name": "stdout",
     "output_type": "stream",
     "text": [
      "Processing: AK\n"
     ]
    },
    {
     "name": "stderr",
     "output_type": "stream",
     "text": [
      "Processing states:  22%|██▏       | 11/50 [05:47<16:32, 25.44s/it]"
     ]
    },
    {
     "name": "stdout",
     "output_type": "stream",
     "text": [
      "Processing: KY\n"
     ]
    },
    {
     "name": "stderr",
     "output_type": "stream",
     "text": [
      "Processing states:  24%|██▍       | 12/50 [06:05<14:36, 23.06s/it]"
     ]
    },
    {
     "name": "stdout",
     "output_type": "stream",
     "text": [
      "Processing: AL\n"
     ]
    },
    {
     "name": "stderr",
     "output_type": "stream",
     "text": [
      "Processing states:  26%|██▌       | 13/50 [06:18<12:18, 19.97s/it]"
     ]
    },
    {
     "name": "stdout",
     "output_type": "stream",
     "text": [
      "Processing: NH\n"
     ]
    },
    {
     "name": "stderr",
     "output_type": "stream",
     "text": [
      "Processing states:  28%|██▊       | 14/50 [06:19<08:40, 14.46s/it]"
     ]
    },
    {
     "name": "stdout",
     "output_type": "stream",
     "text": [
      "Processing: MN\n"
     ]
    },
    {
     "name": "stderr",
     "output_type": "stream",
     "text": [
      "Processing states:  30%|███       | 15/50 [06:35<08:36, 14.76s/it]"
     ]
    },
    {
     "name": "stdout",
     "output_type": "stream",
     "text": [
      "Processing: MI\n"
     ]
    },
    {
     "name": "stderr",
     "output_type": "stream",
     "text": [
      "Processing states:  32%|███▏      | 16/50 [06:51<08:41, 15.34s/it]"
     ]
    },
    {
     "name": "stdout",
     "output_type": "stream",
     "text": [
      "Processing: OK\n"
     ]
    },
    {
     "name": "stderr",
     "output_type": "stream",
     "text": [
      "Processing states:  34%|███▍      | 17/50 [07:04<08:00, 14.55s/it]"
     ]
    },
    {
     "name": "stdout",
     "output_type": "stream",
     "text": [
      "Processing: IN\n"
     ]
    },
    {
     "name": "stderr",
     "output_type": "stream",
     "text": [
      "Processing states:  36%|███▌      | 18/50 [07:19<07:43, 14.50s/it]"
     ]
    },
    {
     "name": "stdout",
     "output_type": "stream",
     "text": [
      "Processing: CO\n"
     ]
    },
    {
     "name": "stderr",
     "output_type": "stream",
     "text": [
      "Processing states:  38%|███▊      | 19/50 [07:29<06:54, 13.37s/it]"
     ]
    },
    {
     "name": "stdout",
     "output_type": "stream",
     "text": [
      "Processing: CA\n"
     ]
    },
    {
     "name": "stderr",
     "output_type": "stream",
     "text": [
      "Processing states:  40%|████      | 20/50 [07:57<08:50, 17.68s/it]"
     ]
    },
    {
     "name": "stdout",
     "output_type": "stream",
     "text": [
      "Processing: IA\n"
     ]
    },
    {
     "name": "stderr",
     "output_type": "stream",
     "text": [
      "Processing states:  42%|████▏     | 21/50 [08:12<08:11, 16.94s/it]"
     ]
    },
    {
     "name": "stdout",
     "output_type": "stream",
     "text": [
      "Processing: CT\n"
     ]
    },
    {
     "name": "stderr",
     "output_type": "stream",
     "text": [
      "Processing states:  44%|████▍     | 22/50 [08:15<05:55, 12.69s/it]"
     ]
    },
    {
     "name": "stdout",
     "output_type": "stream",
     "text": [
      "Processing: FL\n"
     ]
    },
    {
     "name": "stderr",
     "output_type": "stream",
     "text": [
      "Processing states:  46%|████▌     | 23/50 [08:32<06:21, 14.12s/it]"
     ]
    },
    {
     "name": "stdout",
     "output_type": "stream",
     "text": [
      "Processing: WV\n"
     ]
    },
    {
     "name": "stderr",
     "output_type": "stream",
     "text": [
      "Processing states:  48%|████▊     | 24/50 [08:41<05:22, 12.38s/it]"
     ]
    },
    {
     "name": "stdout",
     "output_type": "stream",
     "text": [
      "Processing: RI\n"
     ]
    },
    {
     "name": "stderr",
     "output_type": "stream",
     "text": [
      "Processing states:  50%|█████     | 25/50 [08:42<03:44,  8.98s/it]"
     ]
    },
    {
     "name": "stdout",
     "output_type": "stream",
     "text": [
      "Processing: WY\n"
     ]
    },
    {
     "name": "stderr",
     "output_type": "stream",
     "text": [
      "Processing states:  52%|█████▏    | 26/50 [08:45<02:56,  7.34s/it]"
     ]
    },
    {
     "name": "stdout",
     "output_type": "stream",
     "text": [
      "Processing: TX\n"
     ]
    },
    {
     "name": "stderr",
     "output_type": "stream",
     "text": [
      "Processing states:  54%|█████▍    | 27/50 [09:30<07:06, 18.55s/it]"
     ]
    },
    {
     "name": "stdout",
     "output_type": "stream",
     "text": [
      "Processing: PA\n"
     ]
    },
    {
     "name": "stderr",
     "output_type": "stream",
     "text": [
      "Processing states:  56%|█████▌    | 28/50 [09:44<06:18, 17.19s/it]"
     ]
    },
    {
     "name": "stdout",
     "output_type": "stream",
     "text": [
      "Processing: NC\n"
     ]
    },
    {
     "name": "stderr",
     "output_type": "stream",
     "text": [
      "Processing states:  58%|█████▊    | 29/50 [10:00<05:53, 16.83s/it]"
     ]
    },
    {
     "name": "stdout",
     "output_type": "stream",
     "text": [
      "Processing: ND\n"
     ]
    },
    {
     "name": "stderr",
     "output_type": "stream",
     "text": [
      "Processing states:  60%|██████    | 30/50 [10:08<04:45, 14.30s/it]"
     ]
    },
    {
     "name": "stdout",
     "output_type": "stream",
     "text": [
      "Processing: NM\n"
     ]
    },
    {
     "name": "stderr",
     "output_type": "stream",
     "text": [
      "Processing states:  62%|██████▏   | 31/50 [10:14<03:39, 11.58s/it]"
     ]
    },
    {
     "name": "stdout",
     "output_type": "stream",
     "text": [
      "Processing: NJ\n"
     ]
    },
    {
     "name": "stderr",
     "output_type": "stream",
     "text": [
      "Processing states:  64%|██████▍   | 32/50 [10:20<02:59,  9.97s/it]"
     ]
    },
    {
     "name": "stdout",
     "output_type": "stream",
     "text": [
      "Processing: ME\n"
     ]
    },
    {
     "name": "stderr",
     "output_type": "stream",
     "text": [
      "Processing states:  66%|██████▌   | 33/50 [10:22<02:11,  7.74s/it]"
     ]
    },
    {
     "name": "stdout",
     "output_type": "stream",
     "text": [
      "Processing: AR\n"
     ]
    },
    {
     "name": "stderr",
     "output_type": "stream",
     "text": [
      "Processing states:  68%|██████▊   | 34/50 [10:35<02:27,  9.20s/it]"
     ]
    },
    {
     "name": "stdout",
     "output_type": "stream",
     "text": [
      "Processing: NV\n"
     ]
    },
    {
     "name": "stderr",
     "output_type": "stream",
     "text": [
      "Processing states:  70%|███████   | 35/50 [10:39<01:53,  7.57s/it]"
     ]
    },
    {
     "name": "stdout",
     "output_type": "stream",
     "text": [
      "Processing: MD\n"
     ]
    },
    {
     "name": "stderr",
     "output_type": "stream",
     "text": [
      "Processing states:  72%|███████▏  | 36/50 [10:44<01:37,  6.99s/it]"
     ]
    },
    {
     "name": "stdout",
     "output_type": "stream",
     "text": [
      "Processing: KS\n"
     ]
    },
    {
     "name": "stderr",
     "output_type": "stream",
     "text": [
      "Processing states:  74%|███████▍  | 37/50 [11:01<02:09,  9.94s/it]"
     ]
    },
    {
     "name": "stdout",
     "output_type": "stream",
     "text": [
      "Processing: NE\n"
     ]
    },
    {
     "name": "stderr",
     "output_type": "stream",
     "text": [
      "Processing states:  76%|███████▌  | 38/50 [11:17<02:18, 11.55s/it]"
     ]
    },
    {
     "name": "stdout",
     "output_type": "stream",
     "text": [
      "Processing: HI\n"
     ]
    },
    {
     "name": "stderr",
     "output_type": "stream",
     "text": [
      "Processing states:  78%|███████▊  | 39/50 [11:18<01:32,  8.45s/it]"
     ]
    },
    {
     "name": "stdout",
     "output_type": "stream",
     "text": [
      "Processing: DE\n"
     ]
    },
    {
     "name": "stderr",
     "output_type": "stream",
     "text": [
      "Processing states:  80%|████████  | 40/50 [11:19<01:01,  6.13s/it]"
     ]
    },
    {
     "name": "stdout",
     "output_type": "stream",
     "text": [
      "Processing: AZ\n"
     ]
    },
    {
     "name": "stderr",
     "output_type": "stream",
     "text": [
      "Processing states:  82%|████████▏ | 41/50 [11:24<00:53,  5.93s/it]"
     ]
    },
    {
     "name": "stdout",
     "output_type": "stream",
     "text": [
      "Processing: NY\n"
     ]
    },
    {
     "name": "stderr",
     "output_type": "stream",
     "text": [
      "Processing states:  84%|████████▍ | 42/50 [11:43<01:18,  9.79s/it]"
     ]
    },
    {
     "name": "stdout",
     "output_type": "stream",
     "text": [
      "Processing: ID\n"
     ]
    },
    {
     "name": "stderr",
     "output_type": "stream",
     "text": [
      "Processing states:  86%|████████▌ | 43/50 [11:50<01:02,  8.94s/it]"
     ]
    },
    {
     "name": "stdout",
     "output_type": "stream",
     "text": [
      "Processing: OH\n"
     ]
    },
    {
     "name": "stderr",
     "output_type": "stream",
     "text": [
      "Processing states:  88%|████████▊ | 44/50 [12:06<01:06, 11.16s/it]"
     ]
    },
    {
     "name": "stdout",
     "output_type": "stream",
     "text": [
      "Processing: OR\n"
     ]
    },
    {
     "name": "stderr",
     "output_type": "stream",
     "text": [
      "Processing states:  90%|█████████ | 45/50 [12:12<00:48,  9.64s/it]"
     ]
    },
    {
     "name": "stdout",
     "output_type": "stream",
     "text": [
      "Processing: IL\n"
     ]
    },
    {
     "name": "stderr",
     "output_type": "stream",
     "text": [
      "Processing states:  92%|█████████▏| 46/50 [12:32<00:50, 12.70s/it]"
     ]
    },
    {
     "name": "stdout",
     "output_type": "stream",
     "text": [
      "Processing: LA\n"
     ]
    },
    {
     "name": "stderr",
     "output_type": "stream",
     "text": [
      "Processing states:  94%|█████████▍| 47/50 [12:42<00:35, 11.98s/it]"
     ]
    },
    {
     "name": "stdout",
     "output_type": "stream",
     "text": [
      "Processing: WI\n"
     ]
    },
    {
     "name": "stderr",
     "output_type": "stream",
     "text": [
      "Processing states:  96%|█████████▌| 48/50 [12:54<00:23, 11.80s/it]"
     ]
    },
    {
     "name": "stdout",
     "output_type": "stream",
     "text": [
      "Processing: WA\n"
     ]
    },
    {
     "name": "stderr",
     "output_type": "stream",
     "text": [
      "Processing states:  98%|█████████▊| 49/50 [13:01<00:10, 10.57s/it]"
     ]
    },
    {
     "name": "stdout",
     "output_type": "stream",
     "text": [
      "Processing: TN\n"
     ]
    },
    {
     "name": "stderr",
     "output_type": "stream",
     "text": [
      "Processing states: 100%|██████████| 50/50 [13:17<00:00, 15.95s/it]"
     ]
    },
    {
     "name": "stdout",
     "output_type": "stream",
     "text": [
      "All states processed.\n"
     ]
    },
    {
     "name": "stderr",
     "output_type": "stream",
     "text": [
      "\n"
     ]
    }
   ],
   "source": [
    "# Loop through each state\n",
    "for state in tqdm(states, desc=\"Processing states\"):\n",
    "    print('Processing:', state)\n",
    "\n",
    "    try:\n",
    "        # Load data from pickle files into a dictionary\n",
    "        data = {}\n",
    "\n",
    "        for file in glob.glob(os.path.join(DATA_DIR, state, '*.pkl')):\n",
    "            with open(file, 'rb') as f:\n",
    "                \n",
    "                # Extract the last 20 characters of the file name\n",
    "                extracted_words = file[-20:]\n",
    "\n",
    "                # Search for numbers in the extracted string\n",
    "                match = re.search(r'(\\d+)', extracted_words)\n",
    "                if match:\n",
    "                    extracted_number = match.group(1)\n",
    "                    # Load the pickle file data into the dictionary\n",
    "                    data[extracted_number] = pd.read_pickle(f)\n",
    "                else:\n",
    "                    print(\"No number found in the string.\")\n",
    "\n",
    "                 # Process each county (FIPS) in the data\n",
    "        for fips, dictionary in data.items():\n",
    "            # Dictionary where the key is the county code (FIPS) and the value is another dictionary\n",
    "            # print('Processing:', fips)\n",
    "\n",
    "            for key, value in dictionary.items():\n",
    "\n",
    "                # If the value is not empty, process it\n",
    "                if len(value) > 0:\n",
    "                    distance_matrix = np.zeros((NUMBER_OF_VARIABLES, NUMBER_OF_VARIABLES))\n",
    "\n",
    "                    # get the selected fips realated to the specific variable\n",
    "                    selected_fips = value['FIPS'].tolist()\n",
    "     \n",
    "                    # filter the dataframe svi_df to only include the selected fips\n",
    "                    svi_df_selected_fips = us_svi[us_svi['FIPS'].isin(selected_fips)]\n",
    "                    svi_df_selected_fips = svi_df_selected_fips[VARIABLES]\n",
    "\n",
    "                    # create a matrix\n",
    "                    data_matrix = svi_df_selected_fips.to_numpy()\n",
    "\n",
    "                    # compute the distance matrix\n",
    "                    for i in range(NUMBER_OF_VARIABLES):\n",
    "                        for j in range(NUMBER_OF_VARIABLES):\n",
    "                            distance_matrix[i, j] = dcor.distance_correlation(data_matrix[:, i], data_matrix[:, j]) #Distance Correlations \n",
    "\n",
    "                    distance_matrix = distance_matrix.T + np.eye(NUMBER_OF_VARIABLES)\n",
    "                    distance_matrix = 1 - distance_matrix\n",
    "\n",
    "\n",
    "\n",
    "                else:\n",
    "                    # If there is no data to compute persistence image, save an empty image\n",
    "                    peristence_image = np.zeros(PERSISTENCE_IMAGE_SHAPE)\n",
    "                    # np.save(os.path.join(RESULTS_DIR, key, fips), peristence_image)\n",
    "\n",
    "                    # break\n",
    "                # break\n",
    "                \n",
    "\n",
    "            # break\n",
    "        \n",
    "        # break\n",
    "\n",
    "    except Exception as e:\n",
    "        print(f\"Error processing {state}: {e}\")\n",
    "        traceback.print_exc()\n",
    "        continue  # Continue to the next iteration if an error occurs\n",
    "\n",
    "print('All states processed.')"
   ]
  },
  {
   "cell_type": "code",
   "execution_count": null,
   "metadata": {},
   "outputs": [],
   "source": []
  }
 ],
 "metadata": {
  "kernelspec": {
   "display_name": "pytorch",
   "language": "python",
   "name": "python3"
  },
  "language_info": {
   "codemirror_mode": {
    "name": "ipython",
    "version": 3
   },
   "file_extension": ".py",
   "mimetype": "text/x-python",
   "name": "python",
   "nbconvert_exporter": "python",
   "pygments_lexer": "ipython3",
   "version": "3.11.4"
  }
 },
 "nbformat": 4,
 "nbformat_minor": 2
}
