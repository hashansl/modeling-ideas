{
 "cells": [
  {
   "cell_type": "code",
   "execution_count": 1,
   "metadata": {},
   "outputs": [],
   "source": [
    "import os"
   ]
  },
  {
   "cell_type": "code",
   "execution_count": 2,
   "metadata": {},
   "outputs": [],
   "source": [
    "def get_folders(location):\n",
    "    return [name for name in os.listdir(location) if os.path.isdir(os.path.join(location, name))]\n",
    "\n",
    "states = get_folders('/Users/h6x/ORNL/git/modeling-ideas/overdose modeling for entire country/data/processed data/svi with hepvu/2018/SVI2018 census tracts with death rate HepVu-5 classes')"
   ]
  },
  {
   "cell_type": "code",
   "execution_count": 3,
   "metadata": {},
   "outputs": [
    {
     "name": "stderr",
     "output_type": "stream",
     "text": [
      "/Users/h6x/anaconda3/envs/TDA/lib/python3.11/site-packages/pandas/core/arrays/masked.py:60: UserWarning: Pandas requires version '1.3.6' or newer of 'bottleneck' (version '1.3.5' currently installed).\n",
      "  from pandas.core import (\n"
     ]
    },
    {
     "name": "stdout",
     "output_type": "stream",
     "text": [
      "VT\n",
      "VA\n",
      "SD\n",
      "SC\n",
      "UT\n",
      "GA\n",
      "MS\n",
      "MT\n",
      "MO\n",
      "MA\n",
      "AK\n",
      "KY\n",
      "AL\n",
      "NH\n",
      "MN\n",
      "MI\n",
      "OK\n",
      "IN\n",
      "CO\n",
      "CA\n",
      "IA\n",
      "CT\n",
      "FL\n",
      "WV\n",
      "RI\n",
      "WY\n",
      "TX\n",
      "PA\n",
      "NC\n",
      "ND\n",
      "NM\n",
      "NJ\n",
      "ME\n",
      "AR\n",
      "NV\n",
      "MD\n",
      "KS\n",
      "NE\n",
      "HI\n",
      "DE\n",
      "AZ\n",
      "NY\n",
      "ID\n",
      "OH\n",
      "OR\n",
      "IL\n",
      "LA\n",
      "WI\n",
      "WA\n",
      "TN\n"
     ]
    }
   ],
   "source": [
    "# loop through each state and load the shapefile and concatenate them into one dataframe\n",
    "import geopandas as gpd\n",
    "import pandas as pd\n",
    "\n",
    "gdf = pd.DataFrame()\n",
    "for state in states:\n",
    "    print(state)\n",
    "    try:\n",
    "        gdf = pd.concat([gdf, gpd.read_file(f'/Users/h6x/ORNL/git/modeling-ideas/overdose modeling for entire country/data/processed data/svi with hepvu/2018/SVI2018 census tracts with death rate HepVu-5 classes/{state}/{state}.shp')])\n",
    "    except:\n",
    "        print(f'Error reading {state}')\n",
    "        continue\n"
   ]
  },
  {
   "cell_type": "code",
   "execution_count": 4,
   "metadata": {},
   "outputs": [
    {
     "data": {
      "text/plain": [
       "(72655, 129)"
      ]
     },
     "execution_count": 4,
     "metadata": {},
     "output_type": "execute_result"
    }
   ],
   "source": [
    "gdf.shape"
   ]
  },
  {
   "cell_type": "code",
   "execution_count": 5,
   "metadata": {},
   "outputs": [
    {
     "data": {
      "text/html": [
       "<div>\n",
       "<style scoped>\n",
       "    .dataframe tbody tr th:only-of-type {\n",
       "        vertical-align: middle;\n",
       "    }\n",
       "\n",
       "    .dataframe tbody tr th {\n",
       "        vertical-align: top;\n",
       "    }\n",
       "\n",
       "    .dataframe thead th {\n",
       "        text-align: right;\n",
       "    }\n",
       "</style>\n",
       "<table border=\"1\" class=\"dataframe\">\n",
       "  <thead>\n",
       "    <tr style=\"text-align: right;\">\n",
       "      <th></th>\n",
       "      <th>ST</th>\n",
       "      <th>STATE</th>\n",
       "      <th>ST_ABBR</th>\n",
       "      <th>STCNTY</th>\n",
       "      <th>COUNTY</th>\n",
       "      <th>FIPS</th>\n",
       "      <th>LOCATION</th>\n",
       "      <th>AREA_SQMI</th>\n",
       "      <th>E_TOTPOP</th>\n",
       "      <th>M_TOTPOP</th>\n",
       "      <th>...</th>\n",
       "      <th>E_UNINSUR</th>\n",
       "      <th>M_UNINSUR</th>\n",
       "      <th>EP_UNINSUR</th>\n",
       "      <th>MP_UNINSUR</th>\n",
       "      <th>E_DAYPOP</th>\n",
       "      <th>Shape_Leng</th>\n",
       "      <th>Shape_Area</th>\n",
       "      <th>NOD_Rate</th>\n",
       "      <th>percentile</th>\n",
       "      <th>geometry</th>\n",
       "    </tr>\n",
       "  </thead>\n",
       "  <tbody>\n",
       "    <tr>\n",
       "      <th>0</th>\n",
       "      <td>50</td>\n",
       "      <td>VERMONT</td>\n",
       "      <td>VT</td>\n",
       "      <td>50007</td>\n",
       "      <td>Chittenden</td>\n",
       "      <td>50007980000</td>\n",
       "      <td>Census Tract 9800, Chittenden County, Vermont</td>\n",
       "      <td>1.141485</td>\n",
       "      <td>0</td>\n",
       "      <td>9</td>\n",
       "      <td>...</td>\n",
       "      <td>0</td>\n",
       "      <td>9</td>\n",
       "      <td>-999.0</td>\n",
       "      <td>-999.0</td>\n",
       "      <td>794</td>\n",
       "      <td>0.107289</td>\n",
       "      <td>0.000337</td>\n",
       "      <td>12.5</td>\n",
       "      <td>0</td>\n",
       "      <td>POLYGON ((-73.16975 44.48154, -73.16620 44.484...</td>\n",
       "    </tr>\n",
       "    <tr>\n",
       "      <th>1</th>\n",
       "      <td>50</td>\n",
       "      <td>VERMONT</td>\n",
       "      <td>VT</td>\n",
       "      <td>50001</td>\n",
       "      <td>Addison</td>\n",
       "      <td>50001960100</td>\n",
       "      <td>Census Tract 9601, Addison County, Vermont</td>\n",
       "      <td>81.549039</td>\n",
       "      <td>3928</td>\n",
       "      <td>202</td>\n",
       "      <td>...</td>\n",
       "      <td>214</td>\n",
       "      <td>67</td>\n",
       "      <td>5.5</td>\n",
       "      <td>1.7</td>\n",
       "      <td>1619</td>\n",
       "      <td>0.743236</td>\n",
       "      <td>0.023958</td>\n",
       "      <td>12.9</td>\n",
       "      <td>0</td>\n",
       "      <td>POLYGON ((-73.19680 44.26663, -73.16182 44.271...</td>\n",
       "    </tr>\n",
       "    <tr>\n",
       "      <th>2</th>\n",
       "      <td>50</td>\n",
       "      <td>VERMONT</td>\n",
       "      <td>VT</td>\n",
       "      <td>50001</td>\n",
       "      <td>Addison</td>\n",
       "      <td>50001960200</td>\n",
       "      <td>Census Tract 9602, Addison County, Vermont</td>\n",
       "      <td>47.443526</td>\n",
       "      <td>2736</td>\n",
       "      <td>23</td>\n",
       "      <td>...</td>\n",
       "      <td>151</td>\n",
       "      <td>75</td>\n",
       "      <td>5.5</td>\n",
       "      <td>2.7</td>\n",
       "      <td>1993</td>\n",
       "      <td>0.650662</td>\n",
       "      <td>0.017827</td>\n",
       "      <td>12.9</td>\n",
       "      <td>0</td>\n",
       "      <td>POLYGON ((-73.39963 44.15533, -73.39873 44.162...</td>\n",
       "    </tr>\n",
       "    <tr>\n",
       "      <th>3</th>\n",
       "      <td>50</td>\n",
       "      <td>VERMONT</td>\n",
       "      <td>VT</td>\n",
       "      <td>50001</td>\n",
       "      <td>Addison</td>\n",
       "      <td>50001960300</td>\n",
       "      <td>Census Tract 9603, Addison County, Vermont</td>\n",
       "      <td>2.476118</td>\n",
       "      <td>2612</td>\n",
       "      <td>19</td>\n",
       "      <td>...</td>\n",
       "      <td>59</td>\n",
       "      <td>34</td>\n",
       "      <td>2.3</td>\n",
       "      <td>1.3</td>\n",
       "      <td>3360</td>\n",
       "      <td>0.109137</td>\n",
       "      <td>0.000744</td>\n",
       "      <td>12.9</td>\n",
       "      <td>0</td>\n",
       "      <td>POLYGON ((-73.27275 44.17683, -73.24845 44.179...</td>\n",
       "    </tr>\n",
       "    <tr>\n",
       "      <th>4</th>\n",
       "      <td>50</td>\n",
       "      <td>VERMONT</td>\n",
       "      <td>VT</td>\n",
       "      <td>50001</td>\n",
       "      <td>Addison</td>\n",
       "      <td>50001960400</td>\n",
       "      <td>Census Tract 9604, Addison County, Vermont</td>\n",
       "      <td>124.237386</td>\n",
       "      <td>5083</td>\n",
       "      <td>179</td>\n",
       "      <td>...</td>\n",
       "      <td>183</td>\n",
       "      <td>41</td>\n",
       "      <td>3.6</td>\n",
       "      <td>0.8</td>\n",
       "      <td>2554</td>\n",
       "      <td>0.980535</td>\n",
       "      <td>0.040436</td>\n",
       "      <td>12.9</td>\n",
       "      <td>0</td>\n",
       "      <td>POLYGON ((-73.43774 44.04501, -73.43199 44.063...</td>\n",
       "    </tr>\n",
       "  </tbody>\n",
       "</table>\n",
       "<p>5 rows × 129 columns</p>\n",
       "</div>"
      ],
      "text/plain": [
       "   ST    STATE ST_ABBR STCNTY      COUNTY         FIPS  \\\n",
       "0  50  VERMONT      VT  50007  Chittenden  50007980000   \n",
       "1  50  VERMONT      VT  50001     Addison  50001960100   \n",
       "2  50  VERMONT      VT  50001     Addison  50001960200   \n",
       "3  50  VERMONT      VT  50001     Addison  50001960300   \n",
       "4  50  VERMONT      VT  50001     Addison  50001960400   \n",
       "\n",
       "                                        LOCATION   AREA_SQMI  E_TOTPOP  \\\n",
       "0  Census Tract 9800, Chittenden County, Vermont    1.141485         0   \n",
       "1     Census Tract 9601, Addison County, Vermont   81.549039      3928   \n",
       "2     Census Tract 9602, Addison County, Vermont   47.443526      2736   \n",
       "3     Census Tract 9603, Addison County, Vermont    2.476118      2612   \n",
       "4     Census Tract 9604, Addison County, Vermont  124.237386      5083   \n",
       "\n",
       "   M_TOTPOP  ...  E_UNINSUR  M_UNINSUR  EP_UNINSUR  MP_UNINSUR  E_DAYPOP  \\\n",
       "0         9  ...          0          9      -999.0      -999.0       794   \n",
       "1       202  ...        214         67         5.5         1.7      1619   \n",
       "2        23  ...        151         75         5.5         2.7      1993   \n",
       "3        19  ...         59         34         2.3         1.3      3360   \n",
       "4       179  ...        183         41         3.6         0.8      2554   \n",
       "\n",
       "   Shape_Leng  Shape_Area  NOD_Rate  percentile  \\\n",
       "0    0.107289    0.000337      12.5           0   \n",
       "1    0.743236    0.023958      12.9           0   \n",
       "2    0.650662    0.017827      12.9           0   \n",
       "3    0.109137    0.000744      12.9           0   \n",
       "4    0.980535    0.040436      12.9           0   \n",
       "\n",
       "                                            geometry  \n",
       "0  POLYGON ((-73.16975 44.48154, -73.16620 44.484...  \n",
       "1  POLYGON ((-73.19680 44.26663, -73.16182 44.271...  \n",
       "2  POLYGON ((-73.39963 44.15533, -73.39873 44.162...  \n",
       "3  POLYGON ((-73.27275 44.17683, -73.24845 44.179...  \n",
       "4  POLYGON ((-73.43774 44.04501, -73.43199 44.063...  \n",
       "\n",
       "[5 rows x 129 columns]"
      ]
     },
     "execution_count": 5,
     "metadata": {},
     "output_type": "execute_result"
    }
   ],
   "source": [
    "gdf.head()"
   ]
  },
  {
   "cell_type": "code",
   "execution_count": 14,
   "metadata": {},
   "outputs": [],
   "source": [
    "# get the unque STCNTY values and their relevent Percentile column values\n",
    "A = gdf[['STCNTY', 'percentile','NOD_Rate']].drop_duplicates().sort_values(by=['STCNTY'])\n"
   ]
  },
  {
   "cell_type": "code",
   "execution_count": 15,
   "metadata": {},
   "outputs": [
    {
     "data": {
      "text/plain": [
       "(3140, 3)"
      ]
     },
     "execution_count": 15,
     "metadata": {},
     "output_type": "execute_result"
    }
   ],
   "source": [
    "A.shape"
   ]
  },
  {
   "cell_type": "code",
   "execution_count": 16,
   "metadata": {},
   "outputs": [],
   "source": [
    "# Calculate the min and max of the column\n",
    "min_value = A['NOD_Rate'].min()\n",
    "max_value = A['NOD_Rate'].max()"
   ]
  },
  {
   "cell_type": "code",
   "execution_count": 17,
   "metadata": {},
   "outputs": [
    {
     "data": {
      "text/plain": [
       "-9.0"
      ]
     },
     "execution_count": 17,
     "metadata": {},
     "output_type": "execute_result"
    }
   ],
   "source": [
    "min_value"
   ]
  },
  {
   "cell_type": "code",
   "execution_count": 18,
   "metadata": {},
   "outputs": [
    {
     "data": {
      "text/plain": [
       "114.4"
      ]
     },
     "execution_count": 18,
     "metadata": {},
     "output_type": "execute_result"
    }
   ],
   "source": [
    "max_value"
   ]
  },
  {
   "cell_type": "code",
   "execution_count": 19,
   "metadata": {},
   "outputs": [
    {
     "data": {
      "text/html": [
       "<div>\n",
       "<style scoped>\n",
       "    .dataframe tbody tr th:only-of-type {\n",
       "        vertical-align: middle;\n",
       "    }\n",
       "\n",
       "    .dataframe tbody tr th {\n",
       "        vertical-align: top;\n",
       "    }\n",
       "\n",
       "    .dataframe thead th {\n",
       "        text-align: right;\n",
       "    }\n",
       "</style>\n",
       "<table border=\"1\" class=\"dataframe\">\n",
       "  <thead>\n",
       "    <tr style=\"text-align: right;\">\n",
       "      <th></th>\n",
       "      <th>STCNTY</th>\n",
       "      <th>percentile</th>\n",
       "      <th>NOD_Rate</th>\n",
       "    </tr>\n",
       "  </thead>\n",
       "  <tbody>\n",
       "    <tr>\n",
       "      <th>114</th>\n",
       "      <td>02105</td>\n",
       "      <td>0</td>\n",
       "      <td>-9.0</td>\n",
       "    </tr>\n",
       "    <tr>\n",
       "      <th>87</th>\n",
       "      <td>02195</td>\n",
       "      <td>0</td>\n",
       "      <td>-9.0</td>\n",
       "    </tr>\n",
       "    <tr>\n",
       "      <th>88</th>\n",
       "      <td>02198</td>\n",
       "      <td>1</td>\n",
       "      <td>-9.0</td>\n",
       "    </tr>\n",
       "    <tr>\n",
       "      <th>129</th>\n",
       "      <td>02230</td>\n",
       "      <td>0</td>\n",
       "      <td>-9.0</td>\n",
       "    </tr>\n",
       "    <tr>\n",
       "      <th>93</th>\n",
       "      <td>02275</td>\n",
       "      <td>0</td>\n",
       "      <td>-9.0</td>\n",
       "    </tr>\n",
       "    <tr>\n",
       "      <th>0</th>\n",
       "      <td>08001</td>\n",
       "      <td>0</td>\n",
       "      <td>-9.0</td>\n",
       "    </tr>\n",
       "    <tr>\n",
       "      <th>1</th>\n",
       "      <td>08014</td>\n",
       "      <td>0</td>\n",
       "      <td>-9.0</td>\n",
       "    </tr>\n",
       "    <tr>\n",
       "      <th>9</th>\n",
       "      <td>08059</td>\n",
       "      <td>0</td>\n",
       "      <td>-9.0</td>\n",
       "    </tr>\n",
       "    <tr>\n",
       "      <th>13</th>\n",
       "      <td>08123</td>\n",
       "      <td>0</td>\n",
       "      <td>-9.0</td>\n",
       "    </tr>\n",
       "  </tbody>\n",
       "</table>\n",
       "</div>"
      ],
      "text/plain": [
       "    STCNTY percentile  NOD_Rate\n",
       "114  02105          0      -9.0\n",
       "87   02195          0      -9.0\n",
       "88   02198          1      -9.0\n",
       "129  02230          0      -9.0\n",
       "93   02275          0      -9.0\n",
       "0    08001          0      -9.0\n",
       "1    08014          0      -9.0\n",
       "9    08059          0      -9.0\n",
       "13   08123          0      -9.0"
      ]
     },
     "execution_count": 19,
     "metadata": {},
     "output_type": "execute_result"
    }
   ],
   "source": [
    "# get the values where A['NOD_Rate'] less than 0\n",
    "A[A['NOD_Rate'] < 0]"
   ]
  },
  {
   "cell_type": "code",
   "execution_count": 20,
   "metadata": {},
   "outputs": [],
   "source": [
    "# Apply the normalization formula\n",
    "A['NOD'] = (A['NOD_Rate'] - min_value) / (max_value - min_value)"
   ]
  },
  {
   "cell_type": "code",
   "execution_count": 22,
   "metadata": {},
   "outputs": [],
   "source": [
    "# drop the NOD_Rate column\n",
    "A = A.drop(columns=['NOD_Rate'])"
   ]
  },
  {
   "cell_type": "code",
   "execution_count": 33,
   "metadata": {},
   "outputs": [],
   "source": [
    "# reset the index\n",
    "A = A.reset_index(drop=True)"
   ]
  },
  {
   "cell_type": "code",
   "execution_count": 34,
   "metadata": {},
   "outputs": [
    {
     "data": {
      "text/html": [
       "<div>\n",
       "<style scoped>\n",
       "    .dataframe tbody tr th:only-of-type {\n",
       "        vertical-align: middle;\n",
       "    }\n",
       "\n",
       "    .dataframe tbody tr th {\n",
       "        vertical-align: top;\n",
       "    }\n",
       "\n",
       "    .dataframe thead th {\n",
       "        text-align: right;\n",
       "    }\n",
       "</style>\n",
       "<table border=\"1\" class=\"dataframe\">\n",
       "  <thead>\n",
       "    <tr style=\"text-align: right;\">\n",
       "      <th></th>\n",
       "      <th>STCNTY</th>\n",
       "      <th>percentile</th>\n",
       "      <th>NOD</th>\n",
       "    </tr>\n",
       "  </thead>\n",
       "  <tbody>\n",
       "    <tr>\n",
       "      <th>0</th>\n",
       "      <td>01001</td>\n",
       "      <td>2</td>\n",
       "      <td>0.161264</td>\n",
       "    </tr>\n",
       "    <tr>\n",
       "      <th>1</th>\n",
       "      <td>01003</td>\n",
       "      <td>3</td>\n",
       "      <td>0.193679</td>\n",
       "    </tr>\n",
       "    <tr>\n",
       "      <th>2</th>\n",
       "      <td>01005</td>\n",
       "      <td>0</td>\n",
       "      <td>0.115073</td>\n",
       "    </tr>\n",
       "    <tr>\n",
       "      <th>3</th>\n",
       "      <td>01007</td>\n",
       "      <td>4</td>\n",
       "      <td>0.260130</td>\n",
       "    </tr>\n",
       "    <tr>\n",
       "      <th>4</th>\n",
       "      <td>01009</td>\n",
       "      <td>4</td>\n",
       "      <td>0.234198</td>\n",
       "    </tr>\n",
       "  </tbody>\n",
       "</table>\n",
       "</div>"
      ],
      "text/plain": [
       "  STCNTY percentile       NOD\n",
       "0  01001          2  0.161264\n",
       "1  01003          3  0.193679\n",
       "2  01005          0  0.115073\n",
       "3  01007          4  0.260130\n",
       "4  01009          4  0.234198"
      ]
     },
     "execution_count": 34,
     "metadata": {},
     "output_type": "execute_result"
    }
   ],
   "source": [
    "A.head()"
   ]
  },
  {
   "cell_type": "code",
   "execution_count": 35,
   "metadata": {},
   "outputs": [
    {
     "data": {
      "text/plain": [
       "str"
      ]
     },
     "execution_count": 35,
     "metadata": {},
     "output_type": "execute_result"
    }
   ],
   "source": [
    "type(A['STCNTY'][0])"
   ]
  },
  {
   "cell_type": "code",
   "execution_count": 26,
   "metadata": {},
   "outputs": [],
   "source": [
    "#make STCNTY column int\n",
    "A['STCNTY'] = A['STCNTY'].astype(str)"
   ]
  },
  {
   "cell_type": "code",
   "execution_count": 11,
   "metadata": {},
   "outputs": [],
   "source": [
    "#make STCNTY column int\n",
    "# A['STCNTY'] = A['STCNTY'].astype(int)"
   ]
  },
  {
   "cell_type": "code",
   "execution_count": 36,
   "metadata": {},
   "outputs": [
    {
     "data": {
      "text/html": [
       "<div>\n",
       "<style scoped>\n",
       "    .dataframe tbody tr th:only-of-type {\n",
       "        vertical-align: middle;\n",
       "    }\n",
       "\n",
       "    .dataframe tbody tr th {\n",
       "        vertical-align: top;\n",
       "    }\n",
       "\n",
       "    .dataframe thead th {\n",
       "        text-align: right;\n",
       "    }\n",
       "</style>\n",
       "<table border=\"1\" class=\"dataframe\">\n",
       "  <thead>\n",
       "    <tr style=\"text-align: right;\">\n",
       "      <th></th>\n",
       "      <th>STCNTY</th>\n",
       "      <th>percentile</th>\n",
       "      <th>NOD</th>\n",
       "    </tr>\n",
       "  </thead>\n",
       "  <tbody>\n",
       "    <tr>\n",
       "      <th>0</th>\n",
       "      <td>01001</td>\n",
       "      <td>2</td>\n",
       "      <td>0.161264</td>\n",
       "    </tr>\n",
       "    <tr>\n",
       "      <th>1</th>\n",
       "      <td>01003</td>\n",
       "      <td>3</td>\n",
       "      <td>0.193679</td>\n",
       "    </tr>\n",
       "    <tr>\n",
       "      <th>2</th>\n",
       "      <td>01005</td>\n",
       "      <td>0</td>\n",
       "      <td>0.115073</td>\n",
       "    </tr>\n",
       "    <tr>\n",
       "      <th>3</th>\n",
       "      <td>01007</td>\n",
       "      <td>4</td>\n",
       "      <td>0.260130</td>\n",
       "    </tr>\n",
       "    <tr>\n",
       "      <th>4</th>\n",
       "      <td>01009</td>\n",
       "      <td>4</td>\n",
       "      <td>0.234198</td>\n",
       "    </tr>\n",
       "    <tr>\n",
       "      <th>...</th>\n",
       "      <td>...</td>\n",
       "      <td>...</td>\n",
       "      <td>...</td>\n",
       "    </tr>\n",
       "    <tr>\n",
       "      <th>3135</th>\n",
       "      <td>56037</td>\n",
       "      <td>4</td>\n",
       "      <td>0.226094</td>\n",
       "    </tr>\n",
       "    <tr>\n",
       "      <th>3136</th>\n",
       "      <td>56039</td>\n",
       "      <td>0</td>\n",
       "      <td>0.147488</td>\n",
       "    </tr>\n",
       "    <tr>\n",
       "      <th>3137</th>\n",
       "      <td>56041</td>\n",
       "      <td>4</td>\n",
       "      <td>0.233387</td>\n",
       "    </tr>\n",
       "    <tr>\n",
       "      <th>3138</th>\n",
       "      <td>56043</td>\n",
       "      <td>4</td>\n",
       "      <td>0.230956</td>\n",
       "    </tr>\n",
       "    <tr>\n",
       "      <th>3139</th>\n",
       "      <td>56045</td>\n",
       "      <td>0</td>\n",
       "      <td>0.162075</td>\n",
       "    </tr>\n",
       "  </tbody>\n",
       "</table>\n",
       "<p>3140 rows × 3 columns</p>\n",
       "</div>"
      ],
      "text/plain": [
       "     STCNTY percentile       NOD\n",
       "0     01001          2  0.161264\n",
       "1     01003          3  0.193679\n",
       "2     01005          0  0.115073\n",
       "3     01007          4  0.260130\n",
       "4     01009          4  0.234198\n",
       "...     ...        ...       ...\n",
       "3135  56037          4  0.226094\n",
       "3136  56039          0  0.147488\n",
       "3137  56041          4  0.233387\n",
       "3138  56043          4  0.230956\n",
       "3139  56045          0  0.162075\n",
       "\n",
       "[3140 rows x 3 columns]"
      ]
     },
     "execution_count": 36,
     "metadata": {},
     "output_type": "execute_result"
    }
   ],
   "source": [
    "A"
   ]
  },
  {
   "cell_type": "code",
   "execution_count": 37,
   "metadata": {},
   "outputs": [],
   "source": [
    "# save A as a csv file\n",
    "A.to_csv('/Users/h6x/ORNL/git/modeling-ideas/overdose modeling for entire country/data/processed data/svi with hepvu/2018/annotation 2018/annotation_NOD.csv', index=False)"
   ]
  },
  {
   "cell_type": "code",
   "execution_count": null,
   "metadata": {},
   "outputs": [],
   "source": [
    "\n",
    "\n",
    "\n",
    "\n"
   ]
  },
  {
   "cell_type": "code",
   "execution_count": null,
   "metadata": {},
   "outputs": [],
   "source": []
  },
  {
   "cell_type": "code",
   "execution_count": null,
   "metadata": {},
   "outputs": [],
   "source": []
  },
  {
   "cell_type": "code",
   "execution_count": null,
   "metadata": {},
   "outputs": [],
   "source": []
  },
  {
   "cell_type": "code",
   "execution_count": null,
   "metadata": {},
   "outputs": [],
   "source": []
  },
  {
   "cell_type": "code",
   "execution_count": null,
   "metadata": {},
   "outputs": [],
   "source": []
  },
  {
   "cell_type": "code",
   "execution_count": null,
   "metadata": {},
   "outputs": [],
   "source": []
  },
  {
   "cell_type": "code",
   "execution_count": 6,
   "metadata": {},
   "outputs": [],
   "source": [
    "import matplotlib.pyplot as plt\n",
    "import geopandas as gpd\n",
    "import pandas as pd\n",
    "import pickle as pickle\n",
    "from pylab import *\n",
    "import warnings\n",
    "import os\n",
    "\n",
    "# Ignore FutureWarnings\n",
    "warnings.simplefilter(action='ignore', category=FutureWarning)\n",
    "\n",
    "\n",
    "# imoporting SVI data for the entire US(county level) \n",
    "us_svi = gpd.read_file('/Users/h6x/ORNL/git/modeling-ideas/overdose modeling for entire country/data/processed data/svi with hepvu/2018/SVI2018 census tracts with death rate HepVu-5 classes/VT/VT.shp')"
   ]
  },
  {
   "cell_type": "code",
   "execution_count": 7,
   "metadata": {},
   "outputs": [],
   "source": [
    "# get the us_svi column names to a list\n",
    "us_svi_columns = us_svi.columns.tolist()\n"
   ]
  },
  {
   "cell_type": "code",
   "execution_count": 8,
   "metadata": {},
   "outputs": [
    {
     "data": {
      "text/plain": [
       "['ST',\n",
       " 'STATE',\n",
       " 'ST_ABBR',\n",
       " 'STCNTY',\n",
       " 'COUNTY',\n",
       " 'FIPS',\n",
       " 'LOCATION',\n",
       " 'AREA_SQMI',\n",
       " 'E_TOTPOP',\n",
       " 'M_TOTPOP',\n",
       " 'E_HU',\n",
       " 'M_HU',\n",
       " 'E_HH',\n",
       " 'M_HH',\n",
       " 'E_POV',\n",
       " 'M_POV',\n",
       " 'E_UNEMP',\n",
       " 'M_UNEMP',\n",
       " 'E_PCI',\n",
       " 'M_PCI',\n",
       " 'E_NOHSDP',\n",
       " 'M_NOHSDP',\n",
       " 'E_AGE65',\n",
       " 'M_AGE65',\n",
       " 'E_AGE17',\n",
       " 'M_AGE17',\n",
       " 'E_DISABL',\n",
       " 'M_DISABL',\n",
       " 'E_SNGPNT',\n",
       " 'M_SNGPNT',\n",
       " 'E_MINRTY',\n",
       " 'M_MINRTY',\n",
       " 'E_LIMENG',\n",
       " 'M_LIMENG',\n",
       " 'E_MUNIT',\n",
       " 'M_MUNIT',\n",
       " 'E_MOBILE',\n",
       " 'M_MOBILE',\n",
       " 'E_CROWD',\n",
       " 'M_CROWD',\n",
       " 'E_NOVEH',\n",
       " 'M_NOVEH',\n",
       " 'E_GROUPQ',\n",
       " 'M_GROUPQ',\n",
       " 'EP_POV',\n",
       " 'MP_POV',\n",
       " 'EP_UNEMP',\n",
       " 'MP_UNEMP',\n",
       " 'EP_PCI',\n",
       " 'MP_PCI',\n",
       " 'EP_NOHSDP',\n",
       " 'MP_NOHSDP',\n",
       " 'EP_AGE65',\n",
       " 'MP_AGE65',\n",
       " 'EP_AGE17',\n",
       " 'MP_AGE17',\n",
       " 'EP_DISABL',\n",
       " 'MP_DISABL',\n",
       " 'EP_SNGPNT',\n",
       " 'MP_SNGPNT',\n",
       " 'EP_MINRTY',\n",
       " 'MP_MINRTY',\n",
       " 'EP_LIMENG',\n",
       " 'MP_LIMENG',\n",
       " 'EP_MUNIT',\n",
       " 'MP_MUNIT',\n",
       " 'EP_MOBILE',\n",
       " 'MP_MOBILE',\n",
       " 'EP_CROWD',\n",
       " 'MP_CROWD',\n",
       " 'EP_NOVEH',\n",
       " 'MP_NOVEH',\n",
       " 'EP_GROUPQ',\n",
       " 'MP_GROUPQ',\n",
       " 'EPL_POV',\n",
       " 'EPL_UNEMP',\n",
       " 'EPL_PCI',\n",
       " 'EPL_NOHSDP',\n",
       " 'SPL_THEME1',\n",
       " 'RPL_THEME1',\n",
       " 'EPL_AGE65',\n",
       " 'EPL_AGE17',\n",
       " 'EPL_DISABL',\n",
       " 'EPL_SNGPNT',\n",
       " 'SPL_THEME2',\n",
       " 'RPL_THEME2',\n",
       " 'EPL_MINRTY',\n",
       " 'EPL_LIMENG',\n",
       " 'SPL_THEME3',\n",
       " 'RPL_THEME3',\n",
       " 'EPL_MUNIT',\n",
       " 'EPL_MOBILE',\n",
       " 'EPL_CROWD',\n",
       " 'EPL_NOVEH',\n",
       " 'EPL_GROUPQ',\n",
       " 'SPL_THEME4',\n",
       " 'RPL_THEME4',\n",
       " 'SPL_THEMES',\n",
       " 'RPL_THEMES',\n",
       " 'F_POV',\n",
       " 'F_UNEMP',\n",
       " 'F_PCI',\n",
       " 'F_NOHSDP',\n",
       " 'F_THEME1',\n",
       " 'F_AGE65',\n",
       " 'F_AGE17',\n",
       " 'F_DISABL',\n",
       " 'F_SNGPNT',\n",
       " 'F_THEME2',\n",
       " 'F_MINRTY',\n",
       " 'F_LIMENG',\n",
       " 'F_THEME3',\n",
       " 'F_MUNIT',\n",
       " 'F_MOBILE',\n",
       " 'F_CROWD',\n",
       " 'F_NOVEH',\n",
       " 'F_GROUPQ',\n",
       " 'F_THEME4',\n",
       " 'F_TOTAL',\n",
       " 'E_UNINSUR',\n",
       " 'M_UNINSUR',\n",
       " 'EP_UNINSUR',\n",
       " 'MP_UNINSUR',\n",
       " 'E_DAYPOP',\n",
       " 'Shape_Leng',\n",
       " 'Shape_Area',\n",
       " 'NOD_Rate',\n",
       " 'percentile',\n",
       " 'geometry']"
      ]
     },
     "execution_count": 8,
     "metadata": {},
     "output_type": "execute_result"
    }
   ],
   "source": [
    "us_svi_columns"
   ]
  },
  {
   "cell_type": "code",
   "execution_count": null,
   "metadata": {},
   "outputs": [],
   "source": []
  }
 ],
 "metadata": {
  "kernelspec": {
   "display_name": "TDA",
   "language": "python",
   "name": "python3"
  },
  "language_info": {
   "codemirror_mode": {
    "name": "ipython",
    "version": 3
   },
   "file_extension": ".py",
   "mimetype": "text/x-python",
   "name": "python",
   "nbconvert_exporter": "python",
   "pygments_lexer": "ipython3",
   "version": "3.1.undefined"
  }
 },
 "nbformat": 4,
 "nbformat_minor": 2
}
