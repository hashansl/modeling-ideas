{
 "cells": [
  {
   "cell_type": "markdown",
   "metadata": {},
   "source": [
    "#### Checking the generalizd variance code chunk"
   ]
  },
  {
   "cell_type": "code",
   "execution_count": 1,
   "metadata": {},
   "outputs": [],
   "source": [
    "import pickle\n",
    "import numpy as np\n",
    "from scipy.linalg import null_space"
   ]
  },
  {
   "cell_type": "code",
   "execution_count": 2,
   "metadata": {},
   "outputs": [
    {
     "name": "stdout",
     "output_type": "stream",
     "text": [
      "Q matrix which we got from adjacencies:\n",
      "[[ 1 -1  0  0  0  0  0  0  0  0  0  0]\n",
      " [-1  5  0  0  0 -1  0 -1  0 -1  0 -1]\n",
      " [ 0  0  5 -1  0 -1 -1 -1 -1  0  0  0]\n",
      " [ 0  0 -1  4 -1 -1  0  0 -1  0  0  0]\n",
      " [ 0  0  0 -1  3 -1  0  0 -1  0  0  0]\n",
      " [ 0 -1 -1 -1 -1  7  0 -1 -1 -1  0  0]\n",
      " [ 0  0 -1  0  0  0  3  0 -1 -1  0  0]\n",
      " [ 0 -1 -1  0  0 -1  0  3  0  0  0  0]\n",
      " [ 0  0 -1 -1 -1 -1 -1  0  7 -1 -1  0]\n",
      " [ 0 -1  0  0  0 -1 -1  0 -1  6 -1 -1]\n",
      " [ 0  0  0  0  0  0  0  0 -1 -1  2  0]\n",
      " [ 0 -1  0  0  0  0  0  0  0 -1  0  2]]\n"
     ]
    }
   ],
   "source": [
    "# Load matrix from file\n",
    "with open('matrix_mittelfranken.pkl', 'rb') as f:\n",
    "    Q = pickle.load(f)\n",
    "\n",
    "print(\"Q matrix which we got from adjacencies:\")\n",
    "print(Q)"
   ]
  },
  {
   "cell_type": "code",
   "execution_count": null,
   "metadata": {},
   "outputs": [],
   "source": []
  },
  {
   "cell_type": "code",
   "execution_count": null,
   "metadata": {},
   "outputs": [],
   "source": []
  }
 ],
 "metadata": {
  "kernelspec": {
   "display_name": "pytorch",
   "language": "python",
   "name": "python3"
  },
  "language_info": {
   "codemirror_mode": {
    "name": "ipython",
    "version": 3
   },
   "file_extension": ".py",
   "mimetype": "text/x-python",
   "name": "python",
   "nbconvert_exporter": "python",
   "pygments_lexer": "ipython3",
   "version": "3.11.4"
  }
 },
 "nbformat": 4,
 "nbformat_minor": 2
}
